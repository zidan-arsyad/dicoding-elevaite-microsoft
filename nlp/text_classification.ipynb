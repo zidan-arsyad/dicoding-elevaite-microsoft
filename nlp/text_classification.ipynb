{
 "cells": [
  {
   "cell_type": "markdown",
   "metadata": {},
   "source": [
    "# Text Classification\n",
    "\n",
    "Use cases:<br>\n",
    "1. Spam detection\n",
    "2. Topic labeling\n",
    "3. Sentiment analysis\n",
    "4. etc."
   ]
  },
  {
   "cell_type": "markdown",
   "metadata": {},
   "source": [
    "## 1. Rule-based method\n",
    "\n",
    "Pros:\n",
    "1. Simple\n",
    "2. Interpretable\n",
    "\n",
    "Cons:\n",
    "1. Need rule updates\n",
    "2. Can't generalize well"
   ]
  },
  {
   "cell_type": "code",
   "execution_count": 3,
   "metadata": {},
   "outputs": [
    {
     "name": "stdout",
     "output_type": "stream",
     "text": [
      "Classified email as: ['spam', 'spam', 'spam', 'not spam', 'spam', 'not spam']\n"
     ]
    }
   ],
   "source": [
    "def classify_email(email):\n",
    "    email = email.lower()\n",
    "    spam_keywords = [\"free money\", \"lottery\", \"prize\", \"win\", \"jackpot\"]\n",
    "    for keyword in spam_keywords:\n",
    "        if keyword in email:\n",
    "            return \"spam\"\n",
    "    return \"not spam\"\n",
    "\n",
    "sample_emails = [\n",
    "    \"Get your free money!\",\n",
    "    \"Obtain huge jackpot!\",\n",
    "    \"Guaranteed to win 50x\",\n",
    "    \"Please resubmit your form\",\n",
    "    \"You have won a prize\",\n",
    "    \"You have been selected\",\n",
    "    ]\n",
    "\n",
    "print(f\"Classified email as:\", list(map(classify_email, sample_emails)))\n",
    "# Output: ['spam', 'spam', 'spam', 'not spam', 'spam', 'not spam']"
   ]
  },
  {
   "cell_type": "markdown",
   "metadata": {},
   "source": [
    "## 2. ML-based method\n",
    "Common algorithms:\n",
    "1. Naïve Bayes: Good for spam filtering and topic classification.\n",
    "2. Support Vector Machines (SVM): Works well with small datasets.\n",
    "3. Logistic Regression: Simple and effective for binary classification.\n",
    "4. Random Forest → Uses decision trees to improve accuracy.\n",
    "5. Deep Learning (LSTMs, CNNs, Transformers) → Best for complex text data."
   ]
  },
  {
   "cell_type": "markdown",
   "metadata": {},
   "source": [
    "### 2.1. Sentiment analysis"
   ]
  },
  {
   "cell_type": "markdown",
   "metadata": {},
   "source": [
    "## 3. Deep learning-based method"
   ]
  },
  {
   "cell_type": "markdown",
   "metadata": {},
   "source": []
  }
 ],
 "metadata": {
  "kernelspec": {
   "display_name": "Python 3",
   "language": "python",
   "name": "python3"
  },
  "language_info": {
   "codemirror_mode": {
    "name": "ipython",
    "version": 3
   },
   "file_extension": ".py",
   "mimetype": "text/x-python",
   "name": "python",
   "nbconvert_exporter": "python",
   "pygments_lexer": "ipython3",
   "version": "3.11.2"
  }
 },
 "nbformat": 4,
 "nbformat_minor": 2
}
