{
 "cells": [
  {
   "cell_type": "markdown",
   "metadata": {},
   "source": [
    "# Regression for Bike Data"
   ]
  },
  {
   "cell_type": "markdown",
   "metadata": {},
   "source": [
    "1. Pipeline <br>\n",
    "1.1. Train-validation-test split <br>\n",
    "1.2. MaxAbsScaler <br>\n",
    "1.3. Gradient Boosting Regressor <br>\n",
    "1.4. GridSearchCV\n",
    "2. Metrics (Normalized RMSE)\n",
    "3. Visualization (plt)\n",
    "4. Forecasting"
   ]
  },
  {
   "cell_type": "markdown",
   "metadata": {},
   "source": [
    "## Model"
   ]
  },
  {
   "cell_type": "markdown",
   "metadata": {},
   "source": [
    "### Preparation"
   ]
  },
  {
   "cell_type": "code",
   "execution_count": 4,
   "metadata": {},
   "outputs": [],
   "source": [
    "import numpy as np\n",
    "import pandas as pd\n",
    "import matplotlib.pyplot as plt\n",
    "import seaborn as sns\n",
    "from sklearn.model_selection import train_test_split, GridSearchCV\n",
    "from sklearn.preprocessing import MaxAbsScaler\n",
    "from sklearn.ensemble import GradientBoostingRegressor\n",
    "from sklearn.pipeline import Pipeline\n",
    "from sklearn.metrics import mean_squared_error, make_scorer"
   ]
  },
  {
   "cell_type": "code",
   "execution_count": 5,
   "metadata": {},
   "outputs": [
    {
     "data": {
      "text/html": [
       "<div>\n",
       "<style scoped>\n",
       "    .dataframe tbody tr th:only-of-type {\n",
       "        vertical-align: middle;\n",
       "    }\n",
       "\n",
       "    .dataframe tbody tr th {\n",
       "        vertical-align: top;\n",
       "    }\n",
       "\n",
       "    .dataframe thead th {\n",
       "        text-align: right;\n",
       "    }\n",
       "</style>\n",
       "<table border=\"1\" class=\"dataframe\">\n",
       "  <thead>\n",
       "    <tr style=\"text-align: right;\">\n",
       "      <th></th>\n",
       "      <th>day</th>\n",
       "      <th>mnth</th>\n",
       "      <th>year</th>\n",
       "      <th>season</th>\n",
       "      <th>holiday</th>\n",
       "      <th>weekday</th>\n",
       "      <th>workingday</th>\n",
       "      <th>weathersit</th>\n",
       "      <th>temp</th>\n",
       "      <th>atemp</th>\n",
       "      <th>hum</th>\n",
       "      <th>windspeed</th>\n",
       "      <th>rentals</th>\n",
       "    </tr>\n",
       "  </thead>\n",
       "  <tbody>\n",
       "    <tr>\n",
       "      <th>0</th>\n",
       "      <td>1</td>\n",
       "      <td>1</td>\n",
       "      <td>2011</td>\n",
       "      <td>1</td>\n",
       "      <td>0</td>\n",
       "      <td>6</td>\n",
       "      <td>0</td>\n",
       "      <td>2</td>\n",
       "      <td>0.344167</td>\n",
       "      <td>0.363625</td>\n",
       "      <td>0.805833</td>\n",
       "      <td>0.160446</td>\n",
       "      <td>331</td>\n",
       "    </tr>\n",
       "    <tr>\n",
       "      <th>1</th>\n",
       "      <td>2</td>\n",
       "      <td>1</td>\n",
       "      <td>2011</td>\n",
       "      <td>1</td>\n",
       "      <td>0</td>\n",
       "      <td>0</td>\n",
       "      <td>0</td>\n",
       "      <td>2</td>\n",
       "      <td>0.363478</td>\n",
       "      <td>0.353739</td>\n",
       "      <td>0.696087</td>\n",
       "      <td>0.248539</td>\n",
       "      <td>131</td>\n",
       "    </tr>\n",
       "    <tr>\n",
       "      <th>2</th>\n",
       "      <td>3</td>\n",
       "      <td>1</td>\n",
       "      <td>2011</td>\n",
       "      <td>1</td>\n",
       "      <td>0</td>\n",
       "      <td>1</td>\n",
       "      <td>1</td>\n",
       "      <td>1</td>\n",
       "      <td>0.196364</td>\n",
       "      <td>0.189405</td>\n",
       "      <td>0.437273</td>\n",
       "      <td>0.248309</td>\n",
       "      <td>120</td>\n",
       "    </tr>\n",
       "    <tr>\n",
       "      <th>3</th>\n",
       "      <td>4</td>\n",
       "      <td>1</td>\n",
       "      <td>2011</td>\n",
       "      <td>1</td>\n",
       "      <td>0</td>\n",
       "      <td>2</td>\n",
       "      <td>1</td>\n",
       "      <td>1</td>\n",
       "      <td>0.200000</td>\n",
       "      <td>0.212122</td>\n",
       "      <td>0.590435</td>\n",
       "      <td>0.160296</td>\n",
       "      <td>108</td>\n",
       "    </tr>\n",
       "    <tr>\n",
       "      <th>4</th>\n",
       "      <td>5</td>\n",
       "      <td>1</td>\n",
       "      <td>2011</td>\n",
       "      <td>1</td>\n",
       "      <td>0</td>\n",
       "      <td>3</td>\n",
       "      <td>1</td>\n",
       "      <td>1</td>\n",
       "      <td>0.226957</td>\n",
       "      <td>0.229270</td>\n",
       "      <td>0.436957</td>\n",
       "      <td>0.186900</td>\n",
       "      <td>82</td>\n",
       "    </tr>\n",
       "  </tbody>\n",
       "</table>\n",
       "</div>"
      ],
      "text/plain": [
       "   day  mnth  year  season  holiday  weekday  workingday  weathersit  \\\n",
       "0    1     1  2011       1        0        6           0           2   \n",
       "1    2     1  2011       1        0        0           0           2   \n",
       "2    3     1  2011       1        0        1           1           1   \n",
       "3    4     1  2011       1        0        2           1           1   \n",
       "4    5     1  2011       1        0        3           1           1   \n",
       "\n",
       "       temp     atemp       hum  windspeed  rentals  \n",
       "0  0.344167  0.363625  0.805833   0.160446      331  \n",
       "1  0.363478  0.353739  0.696087   0.248539      131  \n",
       "2  0.196364  0.189405  0.437273   0.248309      120  \n",
       "3  0.200000  0.212122  0.590435   0.160296      108  \n",
       "4  0.226957  0.229270  0.436957   0.186900       82  "
      ]
     },
     "execution_count": 5,
     "metadata": {},
     "output_type": "execute_result"
    }
   ],
   "source": [
    "# import data from csv\n",
    "df = pd.read_csv(\"daily-bike-share.csv\")\n",
    "df.head()"
   ]
  },
  {
   "cell_type": "code",
   "execution_count": 6,
   "metadata": {},
   "outputs": [
    {
     "data": {
      "text/html": [
       "<div>\n",
       "<style scoped>\n",
       "    .dataframe tbody tr th:only-of-type {\n",
       "        vertical-align: middle;\n",
       "    }\n",
       "\n",
       "    .dataframe tbody tr th {\n",
       "        vertical-align: top;\n",
       "    }\n",
       "\n",
       "    .dataframe thead th {\n",
       "        text-align: right;\n",
       "    }\n",
       "</style>\n",
       "<table border=\"1\" class=\"dataframe\">\n",
       "  <thead>\n",
       "    <tr style=\"text-align: right;\">\n",
       "      <th></th>\n",
       "      <th>rentals</th>\n",
       "    </tr>\n",
       "  </thead>\n",
       "  <tbody>\n",
       "    <tr>\n",
       "      <th>0</th>\n",
       "      <td>331</td>\n",
       "    </tr>\n",
       "    <tr>\n",
       "      <th>1</th>\n",
       "      <td>131</td>\n",
       "    </tr>\n",
       "    <tr>\n",
       "      <th>2</th>\n",
       "      <td>120</td>\n",
       "    </tr>\n",
       "    <tr>\n",
       "      <th>3</th>\n",
       "      <td>108</td>\n",
       "    </tr>\n",
       "    <tr>\n",
       "      <th>4</th>\n",
       "      <td>82</td>\n",
       "    </tr>\n",
       "  </tbody>\n",
       "</table>\n",
       "</div>"
      ],
      "text/plain": [
       "   rentals\n",
       "0      331\n",
       "1      131\n",
       "2      120\n",
       "3      108\n",
       "4       82"
      ]
     },
     "execution_count": 6,
     "metadata": {},
     "output_type": "execute_result"
    }
   ],
   "source": [
    "# split features and label\n",
    "X = df.drop(columns=\"rentals\")\n",
    "y = df[[\"rentals\"]]\n",
    "\n",
    "X.head()\n",
    "y.head()"
   ]
  },
  {
   "cell_type": "markdown",
   "metadata": {},
   "source": [
    "#### Train-validation-test split"
   ]
  },
  {
   "cell_type": "code",
   "execution_count": 7,
   "metadata": {},
   "outputs": [],
   "source": [
    "# train-validation-test split\n",
    "X_train, X_temp, y_train, y_temp = train_test_split(\n",
    "    X, y, test_size=0.3, random_state=42)\n",
    "X_val, X_test, y_val, y_test = train_test_split(\n",
    "    X_temp, y_temp, test_size=0.3, random_state=42)"
   ]
  },
  {
   "cell_type": "markdown",
   "metadata": {},
   "source": [
    "### Pipeline"
   ]
  },
  {
   "cell_type": "code",
   "execution_count": 8,
   "metadata": {},
   "outputs": [],
   "source": [
    "# create pipeline\n",
    "pipeline = Pipeline([\n",
    "    (\"scaler\", MaxAbsScaler()),\n",
    "    (\"gbm\", GradientBoostingRegressor(random_state=42,\n",
    "     n_iter_no_change=5, validation_fraction=0.2))\n",
    "])"
   ]
  },
  {
   "cell_type": "markdown",
   "metadata": {},
   "source": [
    "#### Normalized RMSE"
   ]
  },
  {
   "cell_type": "code",
   "execution_count": 9,
   "metadata": {},
   "outputs": [],
   "source": [
    "def calculate_nrmse(y_true, y_pred, normalization_factor=None):\n",
    "    rmse = np.sqrt(mean_squared_error(y_true, y_pred))\n",
    "\n",
    "    if normalization_factor is None:\n",
    "        normalization_factor = np.max(y_true) - np.min(y_true)\n",
    "\n",
    "    nrmse = rmse / normalization_factor\n",
    "    return nrmse\n",
    "\n",
    "\n",
    "# Normalization factor (choose one)\n",
    "normalization_factor = np.max(y_val) - np.min(y_val)  # Range\n",
    "# normalization_factor = np.mean(y_val)  # Mean\n",
    "# normalization_factor = np.std(y_val)  # Standard deviation"
   ]
  },
  {
   "cell_type": "code",
   "execution_count": 10,
   "metadata": {},
   "outputs": [],
   "source": [
    "# set up custom scorer\n",
    "nrmse_scorer = make_scorer(\n",
    "    calculate_nrmse, greater_is_better=False, normalization_factor=normalization_factor)"
   ]
  },
  {
   "cell_type": "markdown",
   "metadata": {},
   "source": [
    "#### GridSearchCV"
   ]
  },
  {
   "cell_type": "code",
   "execution_count": 11,
   "metadata": {},
   "outputs": [],
   "source": [
    "# Define the hyperparameter grid for GBM\n",
    "param_grid = {\n",
    "    \"gbm__n_estimators\": [20, 50, 100],  # Number of boosting stages\n",
    "    \"gbm__learning_rate\": [0.01, 0.1, 0.25],  # Learning rate\n",
    "    \"gbm__max_depth\": [3, 5, 7],  # Maximum depth of the individual estimators\n",
    "    # Minimum number of samples required to split a node\n",
    "    \"gbm__min_samples_split\": [2, 5, 10],\n",
    "    # Minimum number of samples required at a leaf node\n",
    "    \"gbm__min_samples_leaf\": [1, 2, 4],\n",
    "    # Number of features to consider for the best split\n",
    "    \"gbm__max_features\": [\"sqrt\", \"log2\"]\n",
    "}\n",
    "\n",
    "# Set up GridSearchCV\n",
    "grid_search = GridSearchCV(\n",
    "    estimator=pipeline,\n",
    "    param_grid=param_grid,\n",
    "    scoring=nrmse_scorer,\n",
    "    cv=5,\n",
    "    n_jobs=-1,\n",
    "    verbose=1\n",
    ")"
   ]
  },
  {
   "cell_type": "markdown",
   "metadata": {},
   "source": [
    "#### Training model"
   ]
  },
  {
   "cell_type": "code",
   "execution_count": 12,
   "metadata": {},
   "outputs": [
    {
     "name": "stdout",
     "output_type": "stream",
     "text": [
      "Fitting 5 folds for each of 486 candidates, totalling 2430 fits\n"
     ]
    },
    {
     "data": {
      "text/html": [
       "<style>#sk-container-id-1 {color: black;}#sk-container-id-1 pre{padding: 0;}#sk-container-id-1 div.sk-toggleable {background-color: white;}#sk-container-id-1 label.sk-toggleable__label {cursor: pointer;display: block;width: 100%;margin-bottom: 0;padding: 0.3em;box-sizing: border-box;text-align: center;}#sk-container-id-1 label.sk-toggleable__label-arrow:before {content: \"▸\";float: left;margin-right: 0.25em;color: #696969;}#sk-container-id-1 label.sk-toggleable__label-arrow:hover:before {color: black;}#sk-container-id-1 div.sk-estimator:hover label.sk-toggleable__label-arrow:before {color: black;}#sk-container-id-1 div.sk-toggleable__content {max-height: 0;max-width: 0;overflow: hidden;text-align: left;background-color: #f0f8ff;}#sk-container-id-1 div.sk-toggleable__content pre {margin: 0.2em;color: black;border-radius: 0.25em;background-color: #f0f8ff;}#sk-container-id-1 input.sk-toggleable__control:checked~div.sk-toggleable__content {max-height: 200px;max-width: 100%;overflow: auto;}#sk-container-id-1 input.sk-toggleable__control:checked~label.sk-toggleable__label-arrow:before {content: \"▾\";}#sk-container-id-1 div.sk-estimator input.sk-toggleable__control:checked~label.sk-toggleable__label {background-color: #d4ebff;}#sk-container-id-1 div.sk-label input.sk-toggleable__control:checked~label.sk-toggleable__label {background-color: #d4ebff;}#sk-container-id-1 input.sk-hidden--visually {border: 0;clip: rect(1px 1px 1px 1px);clip: rect(1px, 1px, 1px, 1px);height: 1px;margin: -1px;overflow: hidden;padding: 0;position: absolute;width: 1px;}#sk-container-id-1 div.sk-estimator {font-family: monospace;background-color: #f0f8ff;border: 1px dotted black;border-radius: 0.25em;box-sizing: border-box;margin-bottom: 0.5em;}#sk-container-id-1 div.sk-estimator:hover {background-color: #d4ebff;}#sk-container-id-1 div.sk-parallel-item::after {content: \"\";width: 100%;border-bottom: 1px solid gray;flex-grow: 1;}#sk-container-id-1 div.sk-label:hover label.sk-toggleable__label {background-color: #d4ebff;}#sk-container-id-1 div.sk-serial::before {content: \"\";position: absolute;border-left: 1px solid gray;box-sizing: border-box;top: 0;bottom: 0;left: 50%;z-index: 0;}#sk-container-id-1 div.sk-serial {display: flex;flex-direction: column;align-items: center;background-color: white;padding-right: 0.2em;padding-left: 0.2em;position: relative;}#sk-container-id-1 div.sk-item {position: relative;z-index: 1;}#sk-container-id-1 div.sk-parallel {display: flex;align-items: stretch;justify-content: center;background-color: white;position: relative;}#sk-container-id-1 div.sk-item::before, #sk-container-id-1 div.sk-parallel-item::before {content: \"\";position: absolute;border-left: 1px solid gray;box-sizing: border-box;top: 0;bottom: 0;left: 50%;z-index: -1;}#sk-container-id-1 div.sk-parallel-item {display: flex;flex-direction: column;z-index: 1;position: relative;background-color: white;}#sk-container-id-1 div.sk-parallel-item:first-child::after {align-self: flex-end;width: 50%;}#sk-container-id-1 div.sk-parallel-item:last-child::after {align-self: flex-start;width: 50%;}#sk-container-id-1 div.sk-parallel-item:only-child::after {width: 0;}#sk-container-id-1 div.sk-dashed-wrapped {border: 1px dashed gray;margin: 0 0.4em 0.5em 0.4em;box-sizing: border-box;padding-bottom: 0.4em;background-color: white;}#sk-container-id-1 div.sk-label label {font-family: monospace;font-weight: bold;display: inline-block;line-height: 1.2em;}#sk-container-id-1 div.sk-label-container {text-align: center;}#sk-container-id-1 div.sk-container {/* jupyter's `normalize.less` sets `[hidden] { display: none; }` but bootstrap.min.css set `[hidden] { display: none !important; }` so we also need the `!important` here to be able to override the default hidden behavior on the sphinx rendered scikit-learn.org. See: https://github.com/scikit-learn/scikit-learn/issues/21755 */display: inline-block !important;position: relative;}#sk-container-id-1 div.sk-text-repr-fallback {display: none;}</style><div id=\"sk-container-id-1\" class=\"sk-top-container\"><div class=\"sk-text-repr-fallback\"><pre>GridSearchCV(cv=5,\n",
       "             estimator=Pipeline(steps=[(&#x27;scaler&#x27;, MaxAbsScaler()),\n",
       "                                       (&#x27;gbm&#x27;,\n",
       "                                        GradientBoostingRegressor(n_iter_no_change=5,\n",
       "                                                                  random_state=42,\n",
       "                                                                  validation_fraction=0.2))]),\n",
       "             n_jobs=-1,\n",
       "             param_grid={&#x27;gbm__learning_rate&#x27;: [0.01, 0.1, 0.25],\n",
       "                         &#x27;gbm__max_depth&#x27;: [3, 5, 7],\n",
       "                         &#x27;gbm__max_features&#x27;: [&#x27;sqrt&#x27;, &#x27;log2&#x27;],\n",
       "                         &#x27;gbm__min_samples_leaf&#x27;: [1, 2, 4],\n",
       "                         &#x27;gbm__min_samples_split&#x27;: [2, 5, 10],\n",
       "                         &#x27;gbm__n_estimators&#x27;: [20, 50, 100]},\n",
       "             scoring=make_scorer(calculate_nrmse, greater_is_better=False, normalization_factor=2825),\n",
       "             verbose=1)</pre><b>In a Jupyter environment, please rerun this cell to show the HTML representation or trust the notebook. <br />On GitHub, the HTML representation is unable to render, please try loading this page with nbviewer.org.</b></div><div class=\"sk-container\" hidden><div class=\"sk-item sk-dashed-wrapped\"><div class=\"sk-label-container\"><div class=\"sk-label sk-toggleable\"><input class=\"sk-toggleable__control sk-hidden--visually\" id=\"sk-estimator-id-1\" type=\"checkbox\" ><label for=\"sk-estimator-id-1\" class=\"sk-toggleable__label sk-toggleable__label-arrow\">GridSearchCV</label><div class=\"sk-toggleable__content\"><pre>GridSearchCV(cv=5,\n",
       "             estimator=Pipeline(steps=[(&#x27;scaler&#x27;, MaxAbsScaler()),\n",
       "                                       (&#x27;gbm&#x27;,\n",
       "                                        GradientBoostingRegressor(n_iter_no_change=5,\n",
       "                                                                  random_state=42,\n",
       "                                                                  validation_fraction=0.2))]),\n",
       "             n_jobs=-1,\n",
       "             param_grid={&#x27;gbm__learning_rate&#x27;: [0.01, 0.1, 0.25],\n",
       "                         &#x27;gbm__max_depth&#x27;: [3, 5, 7],\n",
       "                         &#x27;gbm__max_features&#x27;: [&#x27;sqrt&#x27;, &#x27;log2&#x27;],\n",
       "                         &#x27;gbm__min_samples_leaf&#x27;: [1, 2, 4],\n",
       "                         &#x27;gbm__min_samples_split&#x27;: [2, 5, 10],\n",
       "                         &#x27;gbm__n_estimators&#x27;: [20, 50, 100]},\n",
       "             scoring=make_scorer(calculate_nrmse, greater_is_better=False, normalization_factor=2825),\n",
       "             verbose=1)</pre></div></div></div><div class=\"sk-parallel\"><div class=\"sk-parallel-item\"><div class=\"sk-item\"><div class=\"sk-label-container\"><div class=\"sk-label sk-toggleable\"><input class=\"sk-toggleable__control sk-hidden--visually\" id=\"sk-estimator-id-2\" type=\"checkbox\" ><label for=\"sk-estimator-id-2\" class=\"sk-toggleable__label sk-toggleable__label-arrow\">estimator: Pipeline</label><div class=\"sk-toggleable__content\"><pre>Pipeline(steps=[(&#x27;scaler&#x27;, MaxAbsScaler()),\n",
       "                (&#x27;gbm&#x27;,\n",
       "                 GradientBoostingRegressor(n_iter_no_change=5, random_state=42,\n",
       "                                           validation_fraction=0.2))])</pre></div></div></div><div class=\"sk-serial\"><div class=\"sk-item\"><div class=\"sk-serial\"><div class=\"sk-item\"><div class=\"sk-estimator sk-toggleable\"><input class=\"sk-toggleable__control sk-hidden--visually\" id=\"sk-estimator-id-3\" type=\"checkbox\" ><label for=\"sk-estimator-id-3\" class=\"sk-toggleable__label sk-toggleable__label-arrow\">MaxAbsScaler</label><div class=\"sk-toggleable__content\"><pre>MaxAbsScaler()</pre></div></div></div><div class=\"sk-item\"><div class=\"sk-estimator sk-toggleable\"><input class=\"sk-toggleable__control sk-hidden--visually\" id=\"sk-estimator-id-4\" type=\"checkbox\" ><label for=\"sk-estimator-id-4\" class=\"sk-toggleable__label sk-toggleable__label-arrow\">GradientBoostingRegressor</label><div class=\"sk-toggleable__content\"><pre>GradientBoostingRegressor(n_iter_no_change=5, random_state=42,\n",
       "                          validation_fraction=0.2)</pre></div></div></div></div></div></div></div></div></div></div></div></div>"
      ],
      "text/plain": [
       "GridSearchCV(cv=5,\n",
       "             estimator=Pipeline(steps=[('scaler', MaxAbsScaler()),\n",
       "                                       ('gbm',\n",
       "                                        GradientBoostingRegressor(n_iter_no_change=5,\n",
       "                                                                  random_state=42,\n",
       "                                                                  validation_fraction=0.2))]),\n",
       "             n_jobs=-1,\n",
       "             param_grid={'gbm__learning_rate': [0.01, 0.1, 0.25],\n",
       "                         'gbm__max_depth': [3, 5, 7],\n",
       "                         'gbm__max_features': ['sqrt', 'log2'],\n",
       "                         'gbm__min_samples_leaf': [1, 2, 4],\n",
       "                         'gbm__min_samples_split': [2, 5, 10],\n",
       "                         'gbm__n_estimators': [20, 50, 100]},\n",
       "             scoring=make_scorer(calculate_nrmse, greater_is_better=False, normalization_factor=2825),\n",
       "             verbose=1)"
      ]
     },
     "execution_count": 12,
     "metadata": {},
     "output_type": "execute_result"
    }
   ],
   "source": [
    "# train data\n",
    "grid_search.fit(X_train, y_train.squeeze())"
   ]
  },
  {
   "cell_type": "markdown",
   "metadata": {},
   "source": [
    "#### Validating model"
   ]
  },
  {
   "cell_type": "code",
   "execution_count": 13,
   "metadata": {},
   "outputs": [
    {
     "name": "stdout",
     "output_type": "stream",
     "text": [
      "Best Params: {'gbm__learning_rate': 0.1, 'gbm__max_depth': 7, 'gbm__max_features': 'sqrt', 'gbm__min_samples_leaf': 4, 'gbm__min_samples_split': 2, 'gbm__n_estimators': 100}\n",
      "Best Cross Validation Score (Negative RMSE): -0.1031\n"
     ]
    }
   ],
   "source": [
    "# get best params\n",
    "best_params = grid_search.best_params_\n",
    "best_score = grid_search.best_score_\n",
    "\n",
    "print(f'Best Params: {best_params}')\n",
    "print(f'Best Cross Validation Score (Negative RMSE): {best_score:.4f}')"
   ]
  },
  {
   "cell_type": "code",
   "execution_count": 14,
   "metadata": {},
   "outputs": [
    {
     "name": "stdout",
     "output_type": "stream",
     "text": [
      "Validation NRMSE: 0.0857\n",
      "NRMSE is above 8.5%. Consider further tuning or training.\n"
     ]
    }
   ],
   "source": [
    "# make prediction on the validation set using the best model\n",
    "best_model = grid_search.best_estimator_\n",
    "y_val_pred = best_model.predict(X_val)\n",
    "\n",
    "# calculate the nrmse\n",
    "nrmse_val = calculate_nrmse(\n",
    "    y_true=y_val, y_pred=y_val_pred, normalization_factor=normalization_factor)\n",
    "print(f'Validation NRMSE: {nrmse_val:.4f}')\n",
    "\n",
    "# Early stopping: Check if NRMSE is below 8.5%\n",
    "if nrmse_val < 0.085:\n",
    "    print(\"Stopping training: NRMSE is below 8.5%.\")\n",
    "else:\n",
    "    print(\"NRMSE is above 8.5%. Consider further tuning or training.\")"
   ]
  },
  {
   "cell_type": "code",
   "execution_count": 15,
   "metadata": {},
   "outputs": [
    {
     "name": "stdout",
     "output_type": "stream",
     "text": [
      "Test Set NRMSE: 0.0715\n",
      "\n",
      "Final Evaluation:\n",
      "Validation NRMSE: 0.0857\n",
      "Test Set NRMSE: 0.0715\n"
     ]
    }
   ],
   "source": [
    "# Make predictions on the test set using the best model\n",
    "y_test_pred = best_model.predict(X_test)\n",
    "\n",
    "# Calculate NRMSE on the test set\n",
    "nrmse_test = calculate_nrmse(y_test, y_test_pred, normalization_factor)\n",
    "print(f\"Test Set NRMSE: {nrmse_test:.4f}\")\n",
    "\n",
    "# Print final evaluation\n",
    "print(\"\\nFinal Evaluation:\")\n",
    "print(f\"Validation NRMSE: {nrmse_val:.4f}\")\n",
    "print(f\"Test Set NRMSE: {nrmse_test:.4f}\")"
   ]
  },
  {
   "cell_type": "markdown",
   "metadata": {},
   "source": [
    "## Visualization"
   ]
  },
  {
   "cell_type": "code",
   "execution_count": 16,
   "metadata": {},
   "outputs": [
    {
     "data": {
      "image/png": "[encoded data removed]",
      "text/plain": [
       "<Figure size 1200x500 with 2 Axes>"
      ]
     },
     "metadata": {},
     "output_type": "display_data"
    }
   ],
   "source": [
    "# Visualization\n",
    "plt.figure(figsize=(12, 5))\n",
    "\n",
    "y_vis = y_test.squeeze()\n",
    "\n",
    "# Actual vs Predicted plot\n",
    "plt.subplot(1, 2, 1)\n",
    "sns.scatterplot(x=y_vis, y=y_test_pred, alpha=0.7, edgecolor='k')\n",
    "plt.plot([y_vis.min(), y_vis.max()], [\n",
    "         y_vis.min(), y_vis.max()], '--r', linewidth=2)\n",
    "plt.xlabel(\"Actual Values\")\n",
    "plt.ylabel(\"Predicted Values\")\n",
    "plt.title(\"Actual vs Predicted\")\n",
    "\n",
    "# Residual Plot\n",
    "plt.subplot(1, 2, 2)\n",
    "residuals = y_vis - y_test_pred\n",
    "sns.histplot(residuals, bins=25, kde=True)\n",
    "plt.xlabel(\"Residuals\")\n",
    "plt.ylabel(\"Frequency\")\n",
    "plt.title(\"Residual Distribution\")\n",
    "\n",
    "plt.tight_layout()\n",
    "plt.show()"
   ]
  },
  {
   "cell_type": "markdown",
   "metadata": {},
   "source": [
    "## Forecasting new data"
   ]
  },
  {
   "cell_type": "code",
   "execution_count": 18,
   "metadata": {},
   "outputs": [],
   "source": [
    "import json\n",
    "\n",
    "# new json data\n",
    "json_data = '''\n",
    "   {\n",
    "  \"input_data\": {\n",
    "    \"columns\": [\n",
    "      \"day\",\n",
    "      \"mnth\",\n",
    "      \"year\",\n",
    "      \"season\",\n",
    "      \"holiday\",\n",
    "      \"weekday\",\n",
    "      \"workingday\",\n",
    "      \"weathersit\",\n",
    "      \"temp\",\n",
    "      \"atemp\",\n",
    "      \"hum\",\n",
    "      \"windspeed\"\n",
    "    ],\n",
    "    \"index\": [0],\n",
    "    \"data\": [[1,1,2022,2,0,1,1,2,0.3,0.3,0.3,0.3]]\n",
    "  }\n",
    " }\n",
    "'''\n",
    "\n",
    "data = json.loads(json_data)"
   ]
  },
  {
   "cell_type": "code",
   "execution_count": null,
   "metadata": {},
   "outputs": [
    {
     "data": {
      "text/html": [
       "<div>\n",
       "<style scoped>\n",
       "    .dataframe tbody tr th:only-of-type {\n",
       "        vertical-align: middle;\n",
       "    }\n",
       "\n",
       "    .dataframe tbody tr th {\n",
       "        vertical-align: top;\n",
       "    }\n",
       "\n",
       "    .dataframe thead th {\n",
       "        text-align: right;\n",
       "    }\n",
       "</style>\n",
       "<table border=\"1\" class=\"dataframe\">\n",
       "  <thead>\n",
       "    <tr style=\"text-align: right;\">\n",
       "      <th></th>\n",
       "      <th>day</th>\n",
       "      <th>mnth</th>\n",
       "      <th>year</th>\n",
       "      <th>season</th>\n",
       "      <th>holiday</th>\n",
       "      <th>weekday</th>\n",
       "      <th>workingday</th>\n",
       "      <th>weathersit</th>\n",
       "      <th>temp</th>\n",
       "      <th>atemp</th>\n",
       "      <th>hum</th>\n",
       "      <th>windspeed</th>\n",
       "    </tr>\n",
       "  </thead>\n",
       "  <tbody>\n",
       "    <tr>\n",
       "      <th>0</th>\n",
       "      <td>1</td>\n",
       "      <td>1</td>\n",
       "      <td>2022</td>\n",
       "      <td>2</td>\n",
       "      <td>0</td>\n",
       "      <td>1</td>\n",
       "      <td>1</td>\n",
       "      <td>2</td>\n",
       "      <td>0.3</td>\n",
       "      <td>0.3</td>\n",
       "      <td>0.3</td>\n",
       "      <td>0.3</td>\n",
       "    </tr>\n",
       "  </tbody>\n",
       "</table>\n",
       "</div>"
      ],
      "text/plain": [
       "   day  mnth  year  season  holiday  weekday  workingday  weathersit  temp  \\\n",
       "0    1     1  2022       2        0        1           1           2   0.3   \n",
       "\n",
       "   atemp  hum  windspeed  \n",
       "0    0.3  0.3        0.3  "
      ]
     },
     "execution_count": 19,
     "metadata": {},
     "output_type": "execute_result"
    }
   ],
   "source": [
    "# converting JSON data into dataframe\n",
    "columns = data[\"input_data\"][\"columns\"]\n",
    "rows = data[\"input_data\"][\"data\"]\n",
    "\n",
    "new_data = pd.DataFrame(rows, columns=columns)\n",
    "new_data"
   ]
  },
  {
   "cell_type": "code",
   "execution_count": 22,
   "metadata": {},
   "outputs": [
    {
     "data": {
      "text/plain": [
       "array([349.97764897])"
      ]
     },
     "execution_count": 22,
     "metadata": {},
     "output_type": "execute_result"
    }
   ],
   "source": [
    "# predicting new data\n",
    "prediction = grid_search.predict(new_data)\n",
    "prediction"
   ]
  },
  {
   "cell_type": "code",
   "execution_count": null,
   "metadata": {},
   "outputs": [],
   "source": []
  }
 ],
 "metadata": {
  "kernelspec": {
   "display_name": "Python 3",
   "language": "python",
   "name": "python3"
  },
  "language_info": {
   "codemirror_mode": {
    "name": "ipython",
    "version": 3
   },
   "file_extension": ".py",
   "mimetype": "text/x-python",
   "name": "python",
   "nbconvert_exporter": "python",
   "pygments_lexer": "ipython3",
   "version": "3.11.2"
  }
 },
 "nbformat": 4,
 "nbformat_minor": 2
}
